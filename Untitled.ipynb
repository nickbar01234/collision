{
 "cells": [
  {
   "cell_type": "code",
   "execution_count": 1,
   "id": "facial-cassette",
   "metadata": {},
   "outputs": [],
   "source": [
    "import itertools"
   ]
  },
  {
   "cell_type": "code",
   "execution_count": 17,
   "id": "comfortable-approach",
   "metadata": {},
   "outputs": [],
   "source": [
    "x = [i for i in reversed(range(-5, 5))]"
   ]
  },
  {
   "cell_type": "code",
   "execution_count": 18,
   "id": "gothic-message",
   "metadata": {},
   "outputs": [
    {
     "data": {
      "text/plain": [
       "[4, 3, 2, 1, 0, -1, -2, -3, -4, -5]"
      ]
     },
     "execution_count": 18,
     "metadata": {},
     "output_type": "execute_result"
    }
   ],
   "source": [
    "x"
   ]
  },
  {
   "cell_type": "code",
   "execution_count": 21,
   "id": "interested-graph",
   "metadata": {},
   "outputs": [],
   "source": [
    "length = len(x)\n",
    "\n",
    "for v in x:\n",
    "    if v < 0:\n",
    "        x.pop(x.index(v))"
   ]
  },
  {
   "cell_type": "code",
   "execution_count": 22,
   "id": "modified-baseball",
   "metadata": {},
   "outputs": [
    {
     "data": {
      "text/plain": [
       "[4, 3, 2, 1, 0]"
      ]
     },
     "execution_count": 22,
     "metadata": {},
     "output_type": "execute_result"
    }
   ],
   "source": [
    "x"
   ]
  }
 ],
 "metadata": {
  "kernelspec": {
   "display_name": "collision",
   "language": "python",
   "name": "collision"
  },
  "language_info": {
   "codemirror_mode": {
    "name": "ipython",
    "version": 3
   },
   "file_extension": ".py",
   "mimetype": "text/x-python",
   "name": "python",
   "nbconvert_exporter": "python",
   "pygments_lexer": "ipython3",
   "version": "3.9.2"
  }
 },
 "nbformat": 4,
 "nbformat_minor": 5
}
