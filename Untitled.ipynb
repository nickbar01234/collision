{
 "cells": [
  {
   "cell_type": "code",
   "execution_count": 1,
   "id": "d3cd32a9",
   "metadata": {},
   "outputs": [],
   "source": [
    "from particle import *"
   ]
  },
  {
   "cell_type": "code",
   "execution_count": 2,
   "id": "2f243632-b72a-4deb-93f1-1b9ad542af78",
   "metadata": {},
   "outputs": [],
   "source": [
    "p = Particle(\n",
    "    \"1D\", 1, 1, 1, 10, 5, 3, 2\n",
    ")"
   ]
  }
 ],
 "metadata": {
  "kernelspec": {
   "display_name": "collision",
   "language": "python",
   "name": "collision"
  },
  "language_info": {
   "codemirror_mode": {
    "name": "ipython",
    "version": 3
   },
   "file_extension": ".py",
   "mimetype": "text/x-python",
   "name": "python",
   "nbconvert_exporter": "python",
   "pygments_lexer": "ipython3",
   "version": "3.9.2"
  }
 },
 "nbformat": 4,
 "nbformat_minor": 5
}
