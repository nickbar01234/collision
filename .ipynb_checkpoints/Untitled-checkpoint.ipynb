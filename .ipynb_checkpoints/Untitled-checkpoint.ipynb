{
 "cells": [
  {
   "cell_type": "code",
   "execution_count": 1,
   "id": "aggregate-processor",
   "metadata": {},
   "outputs": [],
   "source": [
    "from particle import *"
   ]
  },
  {
   "cell_type": "code",
   "execution_count": 13,
   "id": "falling-writer",
   "metadata": {},
   "outputs": [
    {
     "ename": "SyntaxError",
     "evalue": "expression cannot contain assignment, perhaps you meant \"==\"? (<ipython-input-13-aea273c4568d>, line 1)",
     "output_type": "error",
     "traceback": [
      "\u001b[1;36m  File \u001b[1;32m\"<ipython-input-13-aea273c4568d>\"\u001b[1;36m, line \u001b[1;32m1\u001b[0m\n\u001b[1;33m    particles = Particle(\"mode\" = \"1D\", \"length\" = 5, \"width\" = 5, \"mass\" = 2, \"x\" = 3, y = 2, \"vx\" = 2, \"vy\" = 5)\u001b[0m\n\u001b[1;37m                         ^\u001b[0m\n\u001b[1;31mSyntaxError\u001b[0m\u001b[1;31m:\u001b[0m expression cannot contain assignment, perhaps you meant \"==\"?\n"
     ]
    }
   ],
   "source": []
  },
  {
   "cell_type": "code",
   "execution_count": 11,
   "id": "assured-thing",
   "metadata": {},
   "outputs": [],
   "source": [
    "def test(x):\n",
    "    return x"
   ]
  },
  {
   "cell_type": "code",
   "execution_count": 12,
   "id": "binary-dairy",
   "metadata": {},
   "outputs": [
    {
     "data": {
      "text/plain": [
       "5"
      ]
     },
     "execution_count": 12,
     "metadata": {},
     "output_type": "execute_result"
    }
   ],
   "source": [
    "test(x = 5)"
   ]
  }
 ],
 "metadata": {
  "kernelspec": {
   "display_name": "collision",
   "language": "python",
   "name": "collision"
  },
  "language_info": {
   "codemirror_mode": {
    "name": "ipython",
    "version": 3
   },
   "file_extension": ".py",
   "mimetype": "text/x-python",
   "name": "python",
   "nbconvert_exporter": "python",
   "pygments_lexer": "ipython3",
   "version": "3.9.2"
  }
 },
 "nbformat": 4,
 "nbformat_minor": 5
}
