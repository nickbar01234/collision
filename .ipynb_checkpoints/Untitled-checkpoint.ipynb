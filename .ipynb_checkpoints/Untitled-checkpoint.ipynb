{
 "cells": [
  {
   "cell_type": "code",
   "execution_count": 1,
   "id": "d3cd32a9",
   "metadata": {},
   "outputs": [],
   "source": [
    "from particle import *"
   ]
  },
  {
   "cell_type": "code",
   "execution_count": 2,
   "id": "2f243632-b72a-4deb-93f1-1b9ad542af78",
   "metadata": {},
   "outputs": [],
   "source": [
    "p = Particle(\n",
    "    \"1D\", 1, 1, 1, 10, 5, 3, 2\n",
    ")"
   ]
  },
  {
   "cell_type": "code",
   "execution_count": 4,
   "id": "efb00b42-b125-43d7-9077-1f5dd32f8fae",
   "metadata": {},
   "outputs": [],
   "source": [
    "p.x = 15"
   ]
  },
  {
   "cell_type": "code",
   "execution_count": 5,
   "id": "af47bf66-e71f-4810-b6cd-99e93de121ba",
   "metadata": {},
   "outputs": [
    {
     "data": {
      "text/plain": [
       "[10, 15]"
      ]
     },
     "execution_count": 5,
     "metadata": {},
     "output_type": "execute_result"
    }
   ],
   "source": [
    "p.x"
   ]
  },
  {
   "cell_type": "code",
   "execution_count": 7,
   "id": "e22471d4-213c-4202-a913-d36ab4a73f8a",
   "metadata": {},
   "outputs": [
    {
     "data": {
      "text/plain": [
       "[3]"
      ]
     },
     "execution_count": 7,
     "metadata": {},
     "output_type": "execute_result"
    }
   ],
   "source": [
    "p.vx"
   ]
  }
 ],
 "metadata": {
  "kernelspec": {
   "display_name": "collision",
   "language": "python",
   "name": "collision"
  },
  "language_info": {
   "codemirror_mode": {
    "name": "ipython",
    "version": 3
   },
   "file_extension": ".py",
   "mimetype": "text/x-python",
   "name": "python",
   "nbconvert_exporter": "python",
   "pygments_lexer": "ipython3",
   "version": "3.9.2"
  }
 },
 "nbformat": 4,
 "nbformat_minor": 5
}
